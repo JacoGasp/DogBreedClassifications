{
 "cells": [
  {
   "cell_type": "code",
   "execution_count": 1,
   "metadata": {},
   "outputs": [],
   "source": [
    "import numpy as np\n",
    "import pandas as pd\n",
    "from keras.applications.vgg16 import VGG16, preprocess_input\n",
    "from keras.callbacks import Callback, EarlyStopping, TensorBoard\n",
    "from keras.models import Model, Sequential\n",
    "from keras.layers import Dense, Flatten, Dropout, Lambda\n",
    "from keras.preprocessing import image\n",
    "from keras import optimizers\n",
    "\n",
    "import matplotlib.pyplot as plt\n",
    "from mpl_toolkits.axes_grid1 import ImageGrid\n",
    "\n",
    "import os\n",
    "from tqdm import tqdm\n",
    "import time\n",
    "\n",
    "from sklearn import preprocessing\n",
    "from sklearn.model_selection import train_test_split"
   ]
  },
  {
   "cell_type": "code",
   "execution_count": 2,
   "metadata": {},
   "outputs": [],
   "source": [
    "df_train = pd.read_csv(\"train.csv\")\n",
    "df_valid = pd.read_csv(\"test.csv\")"
   ]
  },
  {
   "cell_type": "code",
   "execution_count": 3,
   "metadata": {},
   "outputs": [
    {
     "data": {
      "text/html": [
       "<div>\n",
       "<style scoped>\n",
       "    .dataframe tbody tr th:only-of-type {\n",
       "        vertical-align: middle;\n",
       "    }\n",
       "\n",
       "    .dataframe tbody tr th {\n",
       "        vertical-align: top;\n",
       "    }\n",
       "\n",
       "    .dataframe thead th {\n",
       "        text-align: right;\n",
       "    }\n",
       "</style>\n",
       "<table border=\"1\" class=\"dataframe\">\n",
       "  <thead>\n",
       "    <tr style=\"text-align: right;\">\n",
       "      <th></th>\n",
       "      <th>Unnamed: 0</th>\n",
       "      <th>id</th>\n",
       "      <th>breed</th>\n",
       "    </tr>\n",
       "  </thead>\n",
       "  <tbody>\n",
       "    <tr>\n",
       "      <th>0</th>\n",
       "      <td>0</td>\n",
       "      <td>000bec180eb18c7604dcecc8fe0dba07</td>\n",
       "      <td>boston_bull</td>\n",
       "    </tr>\n",
       "    <tr>\n",
       "      <th>1</th>\n",
       "      <td>2</td>\n",
       "      <td>001cdf01b096e06d78e9e5112d419397</td>\n",
       "      <td>pekinese</td>\n",
       "    </tr>\n",
       "    <tr>\n",
       "      <th>2</th>\n",
       "      <td>3</td>\n",
       "      <td>00214f311d5d2247d5dfe4fe24b2303d</td>\n",
       "      <td>bluetick</td>\n",
       "    </tr>\n",
       "    <tr>\n",
       "      <th>3</th>\n",
       "      <td>4</td>\n",
       "      <td>0021f9ceb3235effd7fcde7f7538ed62</td>\n",
       "      <td>golden_retriever</td>\n",
       "    </tr>\n",
       "    <tr>\n",
       "      <th>4</th>\n",
       "      <td>7</td>\n",
       "      <td>002a283a315af96eaea0e28e7163b21b</td>\n",
       "      <td>borzoi</td>\n",
       "    </tr>\n",
       "  </tbody>\n",
       "</table>\n",
       "</div>"
      ],
      "text/plain": [
       "   Unnamed: 0                                id             breed\n",
       "0           0  000bec180eb18c7604dcecc8fe0dba07       boston_bull\n",
       "1           2  001cdf01b096e06d78e9e5112d419397          pekinese\n",
       "2           3  00214f311d5d2247d5dfe4fe24b2303d          bluetick\n",
       "3           4  0021f9ceb3235effd7fcde7f7538ed62  golden_retriever\n",
       "4           7  002a283a315af96eaea0e28e7163b21b            borzoi"
      ]
     },
     "execution_count": 3,
     "metadata": {},
     "output_type": "execute_result"
    }
   ],
   "source": [
    "df_train.head()"
   ]
  },
  {
   "cell_type": "code",
   "execution_count": 4,
   "metadata": {},
   "outputs": [
    {
     "name": "stdout",
     "output_type": "stream",
     "text": [
      "Train one-hot labels shape: (7160, 120)\n",
      "Valid one-hot labels shape: (3062, 120)\n"
     ]
    }
   ],
   "source": [
    "train_one_hot = pd.get_dummies(df_train[\"breed\"])\n",
    "train_one_hot_labels = np.asarray(train_one_hot)\n",
    "\n",
    "valid_one_hot = pd.get_dummies(df_valid[\"breed\"])\n",
    "valid_one_hot_labels = np.asarray(valid_one_hot)\n",
    "\n",
    "print(\"Train one-hot labels shape:\", train_one_hot_labels.shape)\n",
    "print(\"Valid one-hot labels shape:\", valid_one_hot_labels.shape)"
   ]
  },
  {
   "cell_type": "code",
   "execution_count": 5,
   "metadata": {},
   "outputs": [],
   "source": [
    "im_size = 224"
   ]
  },
  {
   "cell_type": "code",
   "execution_count": 6,
   "metadata": {},
   "outputs": [],
   "source": [
    "def load_features(dataframe):\n",
    "    one_hot = pd.get_dummies(dataframe[\"breed\"])\n",
    "    one_hot_labels = np.asarray(one_hot)\n",
    "    \n",
    "    x = [], y = []\n",
    "    \n",
    "    for i, im_id in enumerate(tqdm(dataframe[\"id\"]))"
   ]
  },
  {
   "cell_type": "code",
   "execution_count": 7,
   "metadata": {},
   "outputs": [
    {
     "name": "stderr",
     "output_type": "stream",
     "text": [
      "100%|██████████| 10222/10222 [00:37<00:00, 270.37it/s]\n"
     ]
    }
   ],
   "source": [
    "for i, img_id in enumerate(tqdm(df_train[\"id\"])):\n",
    "    img = image.load_img(\"train/{}.jpg\".format(img_id), target_size=(im_size, im_size))\n",
    "    label = one_hot_labels[i]\n",
    "    x_train.append(preprocess_input(image.img_to_array(img)))\n",
    "    y_train.append(label)"
   ]
  },
  {
   "cell_type": "code",
   "execution_count": 8,
   "metadata": {},
   "outputs": [
    {
     "name": "stderr",
     "output_type": "stream",
     "text": [
      "100%|██████████| 10357/10357 [00:37<00:00, 279.86it/s]\n"
     ]
    }
   ],
   "source": [
    "for img_id in tqdm(df_test[\"id\"].values):\n",
    "    img = image.load_img(\"test/{}.jpg\".format(img_id), target_size=(im_size, im_size))\n",
    "    x_test.append(preprocess_input(image.img_to_array(img)))"
   ]
  },
  {
   "cell_type": "code",
   "execution_count": 9,
   "metadata": {},
   "outputs": [
    {
     "name": "stdout",
     "output_type": "stream",
     "text": [
      "(10222, 224, 224, 3)\n",
      "(10222, 120)\n",
      "(10357, 224, 224, 3)\n"
     ]
    }
   ],
   "source": [
    "x_train = np.array(x_train, np.float32)\n",
    "y_train = np.array(y_train, np.uint8)\n",
    "x_test = np.array(x_test, np.float32)\n",
    "\n",
    "print(x_train.shape)\n",
    "print(y_train.shape)\n",
    "print(x_test.shape)"
   ]
  },
  {
   "cell_type": "code",
   "execution_count": 10,
   "metadata": {},
   "outputs": [],
   "source": [
    "num_class = y_train.shape[1]"
   ]
  },
  {
   "cell_type": "code",
   "execution_count": 11,
   "metadata": {},
   "outputs": [],
   "source": [
    "train_features, valid_features, train_labels, valid_labels = train_test_split(x_train, y_train, test_size=0.3, random_state=1)"
   ]
  },
  {
   "cell_type": "code",
   "execution_count": 12,
   "metadata": {},
   "outputs": [
    {
     "name": "stdout",
     "output_type": "stream",
     "text": [
      "Train features: (7155, 224, 224, 3), train labels: (7155, 120)\n",
      "Valid features: (3067, 224, 224, 3), valid labels: (3067, 120)\n"
     ]
    }
   ],
   "source": [
    "print(\"Train features: {}, train labels: {}\".format(train_features.shape, train_labels.shape))\n",
    "print(\"Valid features: {}, valid labels: {}\".format(valid_features.shape, valid_labels.shape))"
   ]
  },
  {
   "cell_type": "code",
   "execution_count": 15,
   "metadata": {},
   "outputs": [
    {
     "name": "stdout",
     "output_type": "stream",
     "text": [
      "_________________________________________________________________\n",
      "Layer (type)                 Output Shape              Param #   \n",
      "=================================================================\n",
      "input_2 (InputLayer)         (None, 224, 224, 3)       0         \n",
      "_________________________________________________________________\n",
      "block1_conv1 (Conv2D)        (None, 224, 224, 64)      1792      \n",
      "_________________________________________________________________\n",
      "block1_conv2 (Conv2D)        (None, 224, 224, 64)      36928     \n",
      "_________________________________________________________________\n",
      "block1_pool (MaxPooling2D)   (None, 112, 112, 64)      0         \n",
      "_________________________________________________________________\n",
      "block2_conv1 (Conv2D)        (None, 112, 112, 128)     73856     \n",
      "_________________________________________________________________\n",
      "block2_conv2 (Conv2D)        (None, 112, 112, 128)     147584    \n",
      "_________________________________________________________________\n",
      "block2_pool (MaxPooling2D)   (None, 56, 56, 128)       0         \n",
      "_________________________________________________________________\n",
      "block3_conv1 (Conv2D)        (None, 56, 56, 256)       295168    \n",
      "_________________________________________________________________\n",
      "block3_conv2 (Conv2D)        (None, 56, 56, 256)       590080    \n",
      "_________________________________________________________________\n",
      "block3_conv3 (Conv2D)        (None, 56, 56, 256)       590080    \n",
      "_________________________________________________________________\n",
      "block3_pool (MaxPooling2D)   (None, 28, 28, 256)       0         \n",
      "_________________________________________________________________\n",
      "block4_conv1 (Conv2D)        (None, 28, 28, 512)       1180160   \n",
      "_________________________________________________________________\n",
      "block4_conv2 (Conv2D)        (None, 28, 28, 512)       2359808   \n",
      "_________________________________________________________________\n",
      "block4_conv3 (Conv2D)        (None, 28, 28, 512)       2359808   \n",
      "_________________________________________________________________\n",
      "block4_pool (MaxPooling2D)   (None, 14, 14, 512)       0         \n",
      "_________________________________________________________________\n",
      "block5_conv1 (Conv2D)        (None, 14, 14, 512)       2359808   \n",
      "_________________________________________________________________\n",
      "block5_conv2 (Conv2D)        (None, 14, 14, 512)       2359808   \n",
      "_________________________________________________________________\n",
      "block5_conv3 (Conv2D)        (None, 14, 14, 512)       2359808   \n",
      "_________________________________________________________________\n",
      "block5_pool (MaxPooling2D)   (None, 7, 7, 512)         0         \n",
      "_________________________________________________________________\n",
      "flatten_2 (Flatten)          (None, 25088)             0         \n",
      "_________________________________________________________________\n",
      "dense_4 (Dense)              (None, 4096)              102764544 \n",
      "_________________________________________________________________\n",
      "dense_5 (Dense)              (None, 4096)              16781312  \n",
      "_________________________________________________________________\n",
      "dropout_1 (Dropout)          (None, 4096)              0         \n",
      "_________________________________________________________________\n",
      "dense_6 (Dense)              (None, 120)               491640    \n",
      "=================================================================\n",
      "Total params: 134,752,184\n",
      "Trainable params: 120,037,496\n",
      "Non-trainable params: 14,714,688\n",
      "_________________________________________________________________\n"
     ]
    }
   ],
   "source": [
    "vgg = VGG16(weights=\"imagenet\", include_top=False, input_shape=(im_size, im_size, 3))\n",
    "\n",
    "# Add new top layer\n",
    "x = vgg.output\n",
    "x = Flatten()(x)\n",
    "x = Dense(4096, activation=\"relu\")(x)\n",
    "x = Dense(4096, activation=\"relu\")(x)\n",
    "x = Dropout(0.5)(x)\n",
    "y = Dense(num_class, activation=\"softmax\")(x)\n",
    "\n",
    "# The model which will be trained\n",
    "model = Model(inputs=vgg.input, outputs=y)\n",
    "\n",
    "for layer in vgg.layers:\n",
    "    layer.trainable = False\n",
    "optimizer = optimizers.SGD(lr=1e-2, momentum=0.9)\n",
    "model.compile(loss=\"categorical_crossentropy\", optimizer=optimizer, metrics=[\"accuracy\"])\n",
    "model.summary()"
   ]
  },
  {
   "cell_type": "code",
   "execution_count": 16,
   "metadata": {},
   "outputs": [
    {
     "name": "stdout",
     "output_type": "stream",
     "text": [
      "Train on 7155 samples, validate on 3067 samples\n",
      "Epoch 1/50\n",
      "7155/7155 [==============================] - 108s 15ms/step - loss: 15.9914 - acc: 0.0078 - val_loss: 16.0235 - val_acc: 0.0059\n",
      "Epoch 2/50\n",
      "7155/7155 [==============================] - 107s 15ms/step - loss: 15.9874 - acc: 0.0081 - val_loss: 16.0235 - val_acc: 0.0059\n",
      "Epoch 3/50\n",
      "7155/7155 [==============================] - 107s 15ms/step - loss: 15.9874 - acc: 0.0081 - val_loss: 16.0235 - val_acc: 0.0059\n"
     ]
    },
    {
     "data": {
      "text/plain": [
       "<keras.callbacks.History at 0x7ef8ac108cf8>"
      ]
     },
     "execution_count": 16,
     "metadata": {},
     "output_type": "execute_result"
    }
   ],
   "source": [
    "now = time.strftime(\"%Y%m%d_%H%M%S\")\n",
    "\n",
    "callbacks = [EarlyStopping(monitor=\"val_loss\", patience=3), TensorBoard(\"logs/\" + now)]\n",
    "model.fit(x=train_features, y=train_labels, epochs=50, validation_data=(valid_features, valid_labels), batch_size=32, verbose=1, callbacks=callbacks)"
   ]
  },
  {
   "cell_type": "code",
   "execution_count": null,
   "metadata": {},
   "outputs": [],
   "source": [
    "def decode_prediction(prediction):\n",
    "    prediction = prediction.flatten()\n",
    "    class_name = one_hot.columns[np.argmax(prediction)]\n",
    "    score = prediction.max()\n",
    "    \n",
    "    return class_name, score"
   ]
  },
  {
   "cell_type": "code",
   "execution_count": null,
   "metadata": {},
   "outputs": [],
   "source": [
    "fig = plt.figure(1, figsize=(12, 12))\n",
    "grid = ImageGrid(fig, 111, nrows_ncols=(3, 3), axes_pad=.05)\n",
    "\n",
    "for i, row in df_train.sample(9, axis=0).reset_index().iterrows():\n",
    "    ax = grid[i]\n",
    "    img = image.load_img(\"train/{}.jpg\".format(row.id), target_size=(im_size, im_size))\n",
    "    ax.imshow(img)\n",
    "    x = np.expand_dims(image.img_to_array(img), axis=0)\n",
    "    pred = model.predict(x)\n",
    "    class_name, score = decode_prediction(pred)\n",
    "    \n",
    "    ax.text(5, 75, \"Prediction: {} {:.2f}\".format(class_name, float(score)), color='w', backgroundcolor='black', alpha=0.8)\n",
    "    ax.text(5, 85, \"Label: {}\".format(row.breed), color='black', backgroundcolor=\"w\", alpha=0.8)\n",
    "    ax.axis(\"off\")"
   ]
  }
 ],
 "metadata": {
  "kernelspec": {
   "display_name": "Python 3",
   "language": "python",
   "name": "python3"
  },
  "language_info": {
   "codemirror_mode": {
    "name": "ipython",
    "version": 3
   },
   "file_extension": ".py",
   "mimetype": "text/x-python",
   "name": "python",
   "nbconvert_exporter": "python",
   "pygments_lexer": "ipython3",
   "version": "3.6.5"
  }
 },
 "nbformat": 4,
 "nbformat_minor": 2
}
